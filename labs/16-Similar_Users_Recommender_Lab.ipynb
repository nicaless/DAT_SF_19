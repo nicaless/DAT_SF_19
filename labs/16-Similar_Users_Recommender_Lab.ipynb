{
 "cells": [
  {
   "cell_type": "markdown",
   "metadata": {},
   "source": [
    "# Similar Users Lab\n",
    "\n",
    "BUT FIRST a quick word about strings, lists, and sets:\n",
    "\n",
    "## Working with sets\n",
    "\n",
    "In mathematics, a set is a collection of distinct objects.  In Python, \"Sets\" are lists with no duplicate entries. Set objects also support mathematical operations like union, intersection, difference, and symmetric difference.\n",
    "\n",
    "_Fun fact for your next party:  Techincally, Python sets are implemented using dictionaries (under the hood)._\n",
    "\n",
    "Here are two sets of colors:\n"
   ]
  },
  {
   "cell_type": "code",
   "execution_count": 1,
   "metadata": {
    "collapsed": false
   },
   "outputs": [],
   "source": [
    "a = set([\"Red\", \"Green\", \"Blue\"])\n",
    "b = set([\"Black\", \"White\", \"Green\"])"
   ]
  },
  {
   "cell_type": "markdown",
   "metadata": {},
   "source": [
    "To find out which items are in both sets (**both sets only**), use the \"intersection\" method:"
   ]
  },
  {
   "cell_type": "code",
   "execution_count": 2,
   "metadata": {
    "collapsed": false
   },
   "outputs": [
    {
     "data": {
      "text/plain": [
       "{'Green'}"
      ]
     },
     "execution_count": 2,
     "metadata": {},
     "output_type": "execute_result"
    }
   ],
   "source": [
    "a.intersection(b)"
   ]
  },
  {
   "cell_type": "markdown",
   "metadata": {},
   "source": [
    "To find the items in a, but not b."
   ]
  },
  {
   "cell_type": "code",
   "execution_count": 3,
   "metadata": {
    "collapsed": false
   },
   "outputs": [
    {
     "data": {
      "text/plain": [
       "{'Blue', 'Red'}"
      ]
     },
     "execution_count": 3,
     "metadata": {},
     "output_type": "execute_result"
    }
   ],
   "source": [
    "a.difference(b)"
   ]
  },
  {
   "cell_type": "markdown",
   "metadata": {},
   "source": [
    "To find the items in b, but not a."
   ]
  },
  {
   "cell_type": "code",
   "execution_count": 4,
   "metadata": {
    "collapsed": false
   },
   "outputs": [
    {
     "data": {
      "text/plain": [
       "{'Black', 'White'}"
      ]
     },
     "execution_count": 4,
     "metadata": {},
     "output_type": "execute_result"
    }
   ],
   "source": [
    "b.difference(a)"
   ]
  },
  {
   "cell_type": "markdown",
   "metadata": {},
   "source": [
    "To find a list of all unique sets (aka: union):"
   ]
  },
  {
   "cell_type": "code",
   "execution_count": 5,
   "metadata": {
    "collapsed": false
   },
   "outputs": [
    {
     "data": {
      "text/plain": [
       "{'Black', 'Blue', 'Green', 'Red', 'White'}"
      ]
     },
     "execution_count": 5,
     "metadata": {},
     "output_type": "execute_result"
    }
   ],
   "source": [
    "a.union(b)"
   ]
  },
  {
   "cell_type": "markdown",
   "metadata": {},
   "source": [
    "How many are different?"
   ]
  },
  {
   "cell_type": "code",
   "execution_count": 6,
   "metadata": {
    "collapsed": false
   },
   "outputs": [
    {
     "name": "stdout",
     "output_type": "stream",
     "text": [
      "Number of different items in b:  2\n"
     ]
    }
   ],
   "source": [
    "print \"Number of different items in b:  %d\" % len(b.difference(a))"
   ]
  },
  {
   "cell_type": "markdown",
   "metadata": {},
   "source": [
    "## From Sets to Lists\n",
    "\n",
    "Now that we're experts with working with Python sets.  Let's get savvy working with lists and unstructured data.\n",
    "\n",
    "Using the split() method on a string, we can \"split\" it by a delimiter, to be used as a list.  By default, the .split() method can be applied to any string object, and will automatically split on spaces.  \n",
    "\n",
    "*You can pass a parameter to split to change which character it will split on, such as \",\", if you're trying to turn a comma seprated list of items into a list.*\n",
    "\n",
    "The following will turn a space delimited *string* into a **list**."
   ]
  },
  {
   "cell_type": "code",
   "execution_count": 7,
   "metadata": {
    "collapsed": false
   },
   "outputs": [
    {
     "data": {
      "text/plain": [
       "['my',\n",
       " 'name',\n",
       " 'is',\n",
       " 'dave',\n",
       " 'my',\n",
       " 'name',\n",
       " 'is',\n",
       " 'dave',\n",
       " 'my',\n",
       " 'name',\n",
       " 'is',\n",
       " 'dave']"
      ]
     },
     "execution_count": 7,
     "metadata": {},
     "output_type": "execute_result"
    }
   ],
   "source": [
    "\"my name is dave my name is dave my name is dave\".split()"
   ]
  },
  {
   "cell_type": "markdown",
   "metadata": {},
   "source": [
    "What's up with this though?  Well all know \"my name is dave\", but if we had many values, it would be hard to know which of them are unique.  That's when we use sets."
   ]
  },
  {
   "cell_type": "code",
   "execution_count": 8,
   "metadata": {
    "collapsed": false
   },
   "outputs": [
    {
     "data": {
      "text/plain": [
       "{'dave', 'is', 'my', 'name'}"
      ]
     },
     "execution_count": 8,
     "metadata": {},
     "output_type": "execute_result"
    }
   ],
   "source": [
    "set(\"my name is dave my name is dave my name is dave\".split())"
   ]
  },
  {
   "cell_type": "markdown",
   "metadata": {},
   "source": [
    "Ok so we should know enough to conquer our jaccard distance problem, and step into our real problem:\n",
    "\n",
    "## Who has similar tastes in music?\n",
    "\n",
    "What we will attempt, is building a small process that takes feedback from a survey, mapping a distance function to find similar users based on Jaccard.\n",
    "\n",
    "Along the way we will be:\n",
    "* Working with requests\n",
    "* Understanding Python fundamentals with sets and lists\n",
    "* Cleaning up bad data\n",
    "* Implementing Jaccard distance function\n",
    "* Finding similar users\n",
    "\n",
    "First, we will be taking a survey!  Let's all visit the survey posted in the channel before continuing.\n",
    "\n",
    "*[Check out #General]*"
   ]
  },
  {
   "cell_type": "markdown",
   "metadata": {},
   "source": [
    "Hopefully everything goes smooothly.  It's possible that I may need to modify the permissions on the sheet or provide a CSV snapshot if we hit a snag.\n",
    "\n",
    "We will be loading our results via HTTP, then loading them into Pandas via StringIO which allows us to interoperate on strings as if they were file resources, then load them as a Dataframe.  This is setup for us now."
   ]
  },
  {
   "cell_type": "code",
   "execution_count": 63,
   "metadata": {
    "collapsed": false
   },
   "outputs": [],
   "source": [
    "import pandas as pd\n",
    "import requests\n",
    "\n",
    "from StringIO import StringIO  \n",
    "\n",
    "%matplotlib inline\n",
    "\n",
    "spreadsheet = \"https://docs.google.com/spreadsheets/d/1cpUb7XbN-qOq4xbGdYfhY9FtrMqRd0izz4PmTPMejt0/export?format=csv&id=1cpUb7XbN-qOq4xbGdYfhY9FtrMqRd0izz4PmTPMejt0&gid=216538035\"\n",
    "http = requests.get(spreadsheet)\n",
    "csv_data = StringIO(http.content)\n",
    "df = pd.read_csv(csv_data)"
   ]
  },
  {
   "cell_type": "code",
   "execution_count": 64,
   "metadata": {
    "collapsed": false
   },
   "outputs": [
    {
     "data": {
      "text/html": [
       "<div>\n",
       "<table border=\"1\" class=\"dataframe\">\n",
       "  <thead>\n",
       "    <tr style=\"text-align: right;\">\n",
       "      <th></th>\n",
       "      <th>Timestamp</th>\n",
       "      <th>Name</th>\n",
       "      <th>Favorite Genres / Genres you like</th>\n",
       "      <th>What time of day do you like to listen to music?</th>\n",
       "    </tr>\n",
       "  </thead>\n",
       "  <tbody>\n",
       "    <tr>\n",
       "      <th>0</th>\n",
       "      <td>2/8/2016 2:09:12</td>\n",
       "      <td>Dave</td>\n",
       "      <td>Blues, Classical, Electronic Music, Hip Hop / ...</td>\n",
       "      <td>24/7</td>\n",
       "    </tr>\n",
       "    <tr>\n",
       "      <th>1</th>\n",
       "      <td>2/8/2016 20:56:27</td>\n",
       "      <td>Brian Zhou</td>\n",
       "      <td>Alternative Music, Dance, Electronic Music, Hi...</td>\n",
       "      <td>Night</td>\n",
       "    </tr>\n",
       "    <tr>\n",
       "      <th>2</th>\n",
       "      <td>2/8/2016 20:56:44</td>\n",
       "      <td>Colby</td>\n",
       "      <td>Blues, Electronic Music, Indie Pop, Reggae</td>\n",
       "      <td>Morning, Night, Special occasions</td>\n",
       "    </tr>\n",
       "    <tr>\n",
       "      <th>3</th>\n",
       "      <td>2/8/2016 20:56:46</td>\n",
       "      <td>Porpoises</td>\n",
       "      <td>Alternative Music, Dance, Easy Listening, Elec...</td>\n",
       "      <td>24/7</td>\n",
       "    </tr>\n",
       "    <tr>\n",
       "      <th>4</th>\n",
       "      <td>2/8/2016 20:56:50</td>\n",
       "      <td>Tam</td>\n",
       "      <td>Classical, Dance, Easy Listening, Jazz, Pop, R...</td>\n",
       "      <td>24/7</td>\n",
       "    </tr>\n",
       "  </tbody>\n",
       "</table>\n",
       "</div>"
      ],
      "text/plain": [
       "           Timestamp        Name  \\\n",
       "0   2/8/2016 2:09:12        Dave   \n",
       "1  2/8/2016 20:56:27  Brian Zhou   \n",
       "2  2/8/2016 20:56:44       Colby   \n",
       "3  2/8/2016 20:56:46   Porpoises   \n",
       "4  2/8/2016 20:56:50         Tam   \n",
       "\n",
       "                   Favorite Genres / Genres you like  \\\n",
       "0  Blues, Classical, Electronic Music, Hip Hop / ...   \n",
       "1  Alternative Music, Dance, Electronic Music, Hi...   \n",
       "2         Blues, Electronic Music, Indie Pop, Reggae   \n",
       "3  Alternative Music, Dance, Easy Listening, Elec...   \n",
       "4  Classical, Dance, Easy Listening, Jazz, Pop, R...   \n",
       "\n",
       "  What time of day do you like to listen to music?  \n",
       "0                                             24/7  \n",
       "1                                            Night  \n",
       "2                Morning, Night, Special occasions  \n",
       "3                                             24/7  \n",
       "4                                             24/7  "
      ]
     },
     "execution_count": 64,
     "metadata": {},
     "output_type": "execute_result"
    }
   ],
   "source": [
    "df.head()"
   ]
  },
  {
   "cell_type": "markdown",
   "metadata": {},
   "source": [
    "**1. Rename the genre feature**\n",
    "\n",
    "We get bad data from spreadsheets all the time.  This case, it's coming from a survey.  For ease of reference, rename the feature **\"Favorite Genres / Genres you like\"** to **\"genres\"**.\n"
   ]
  },
  {
   "cell_type": "code",
   "execution_count": 65,
   "metadata": {
    "collapsed": false
   },
   "outputs": [
    {
     "data": {
      "text/html": [
       "<div>\n",
       "<table border=\"1\" class=\"dataframe\">\n",
       "  <thead>\n",
       "    <tr style=\"text-align: right;\">\n",
       "      <th></th>\n",
       "      <th>Timestamp</th>\n",
       "      <th>Name</th>\n",
       "      <th>genres</th>\n",
       "      <th>TOD</th>\n",
       "    </tr>\n",
       "  </thead>\n",
       "  <tbody>\n",
       "    <tr>\n",
       "      <th>0</th>\n",
       "      <td>2/8/2016 2:09:12</td>\n",
       "      <td>Dave</td>\n",
       "      <td>Blues, Classical, Electronic Music, Hip Hop / ...</td>\n",
       "      <td>24/7</td>\n",
       "    </tr>\n",
       "    <tr>\n",
       "      <th>1</th>\n",
       "      <td>2/8/2016 20:56:27</td>\n",
       "      <td>Brian Zhou</td>\n",
       "      <td>Alternative Music, Dance, Electronic Music, Hi...</td>\n",
       "      <td>Night</td>\n",
       "    </tr>\n",
       "    <tr>\n",
       "      <th>2</th>\n",
       "      <td>2/8/2016 20:56:44</td>\n",
       "      <td>Colby</td>\n",
       "      <td>Blues, Electronic Music, Indie Pop, Reggae</td>\n",
       "      <td>Morning, Night, Special occasions</td>\n",
       "    </tr>\n",
       "    <tr>\n",
       "      <th>3</th>\n",
       "      <td>2/8/2016 20:56:46</td>\n",
       "      <td>Porpoises</td>\n",
       "      <td>Alternative Music, Dance, Easy Listening, Elec...</td>\n",
       "      <td>24/7</td>\n",
       "    </tr>\n",
       "    <tr>\n",
       "      <th>4</th>\n",
       "      <td>2/8/2016 20:56:50</td>\n",
       "      <td>Tam</td>\n",
       "      <td>Classical, Dance, Easy Listening, Jazz, Pop, R...</td>\n",
       "      <td>24/7</td>\n",
       "    </tr>\n",
       "  </tbody>\n",
       "</table>\n",
       "</div>"
      ],
      "text/plain": [
       "           Timestamp        Name  \\\n",
       "0   2/8/2016 2:09:12        Dave   \n",
       "1  2/8/2016 20:56:27  Brian Zhou   \n",
       "2  2/8/2016 20:56:44       Colby   \n",
       "3  2/8/2016 20:56:46   Porpoises   \n",
       "4  2/8/2016 20:56:50         Tam   \n",
       "\n",
       "                                              genres  \\\n",
       "0  Blues, Classical, Electronic Music, Hip Hop / ...   \n",
       "1  Alternative Music, Dance, Electronic Music, Hi...   \n",
       "2         Blues, Electronic Music, Indie Pop, Reggae   \n",
       "3  Alternative Music, Dance, Easy Listening, Elec...   \n",
       "4  Classical, Dance, Easy Listening, Jazz, Pop, R...   \n",
       "\n",
       "                                 TOD  \n",
       "0                               24/7  \n",
       "1                              Night  \n",
       "2  Morning, Night, Special occasions  \n",
       "3                               24/7  \n",
       "4                               24/7  "
      ]
     },
     "execution_count": 65,
     "metadata": {},
     "output_type": "execute_result"
    }
   ],
   "source": [
    "df.columns = ['Timestamp', 'Name', 'genres', 'TOD']\n",
    "df.head()"
   ]
  },
  {
   "cell_type": "markdown",
   "metadata": {},
   "source": [
    "**2. Select only your response from the new \"genre\" feature**\n",
    "\n",
    "Try printing out only the first value, where df[\"Name\"] == \"[Your name]\"."
   ]
  },
  {
   "cell_type": "code",
   "execution_count": 68,
   "metadata": {
    "collapsed": false
   },
   "outputs": [
    {
     "data": {
      "text/html": [
       "<div>\n",
       "<table border=\"1\" class=\"dataframe\">\n",
       "  <thead>\n",
       "    <tr style=\"text-align: right;\">\n",
       "      <th></th>\n",
       "      <th>Timestamp</th>\n",
       "      <th>Name</th>\n",
       "      <th>genres</th>\n",
       "      <th>TOD</th>\n",
       "    </tr>\n",
       "  </thead>\n",
       "  <tbody>\n",
       "    <tr>\n",
       "      <th>14</th>\n",
       "      <td>2/8/2016 20:58:09</td>\n",
       "      <td>nicaless</td>\n",
       "      <td>Alternative Music, Classical, Electronic Music...</td>\n",
       "      <td>Morning, Noon, Afternoon, Night, Special occas...</td>\n",
       "    </tr>\n",
       "  </tbody>\n",
       "</table>\n",
       "</div>"
      ],
      "text/plain": [
       "            Timestamp      Name  \\\n",
       "14  2/8/2016 20:58:09  nicaless   \n",
       "\n",
       "                                               genres  \\\n",
       "14  Alternative Music, Classical, Electronic Music...   \n",
       "\n",
       "                                                  TOD  \n",
       "14  Morning, Noon, Afternoon, Night, Special occas...  "
      ]
     },
     "execution_count": 68,
     "metadata": {},
     "output_type": "execute_result"
    }
   ],
   "source": [
    "df[df[\"Name\"] == \"nicaless\"]"
   ]
  },
  {
   "cell_type": "markdown",
   "metadata": {},
   "source": [
    "**3. Take your survey response for \"genre\", and split it into a list, equal to the number of responses you chose**\n",
    "\n",
    "For example if you chose \"Blues, Reggae, Electronic Music\", convert it to a list that looks like [\"Blues\", \"Raggae\", \"Electronic Music\"]."
   ]
  },
  {
   "cell_type": "code",
   "execution_count": 69,
   "metadata": {
    "collapsed": false
   },
   "outputs": [
    {
     "data": {
      "text/plain": [
       "['Alternative',\n",
       " 'Music,',\n",
       " 'Classical,',\n",
       " 'Electronic',\n",
       " 'Music,',\n",
       " 'Indie',\n",
       " 'Pop,',\n",
       " 'Asian',\n",
       " 'Pop',\n",
       " '(J-Pop,',\n",
       " 'K-pop),',\n",
       " 'Jazz,',\n",
       " 'Opera,',\n",
       " 'Pop,',\n",
       " 'Rock,',\n",
       " 'Everything']"
      ]
     },
     "execution_count": 69,
     "metadata": {},
     "output_type": "execute_result"
    }
   ],
   "source": [
    "nicaless = df[df[\"Name\"] == \"nicaless\"]['genres'].values[0].split()\n",
    "dave = df[df[\"Name\"] == \"Dave\"]['genres'].values[0].split()\n",
    "nicaless"
   ]
  },
  {
   "cell_type": "markdown",
   "metadata": {},
   "source": [
    "**4. Create a function that takes 2 lists, then calculate Jaccard distance**\n",
    "\n",
    "0-60 mph I know but you can do this!  Double check our slides, and refer to the set operations for how to calculate this.  \n",
    "\n",
    "Here is a boilerplate to get you going."
   ]
  },
  {
   "cell_type": "code",
   "execution_count": 94,
   "metadata": {
    "collapsed": false
   },
   "outputs": [
    {
     "data": {
      "text/plain": [
       "0.4"
      ]
     },
     "execution_count": 94,
     "metadata": {},
     "output_type": "execute_result"
    }
   ],
   "source": [
    "def jaccard(list1, list2):\n",
    "    a = set(list1)\n",
    "    b = set(list2)\n",
    "    #print \"list1: \", list1\n",
    "    #print \"list2: \", list2\n",
    "    intersect = a.intersection(b)\n",
    "    union = a.union(b)\n",
    "    return float(len(intersect)) / len(union)\n",
    "    \n",
    "list1 = ['blue', 'green', 'yellow']\n",
    "list2 = ['black', 'orange', 'yellow', 'green']\n",
    "\n",
    "jaccard(list1, list2)"
   ]
  },
  {
   "cell_type": "code",
   "execution_count": 95,
   "metadata": {
    "collapsed": false
   },
   "outputs": [
    {
     "data": {
      "text/plain": [
       "0.21739130434782608"
      ]
     },
     "execution_count": 95,
     "metadata": {},
     "output_type": "execute_result"
    }
   ],
   "source": [
    "jaccard(nicaless,dave)"
   ]
  },
  {
   "cell_type": "markdown",
   "metadata": {},
   "source": [
    "**5.  Now for our final trick, calculate the distance between your genre preferences vs everyone else.**\n",
    "\n",
    "Loop through everyone in the dataframe, create a list out of their \"genre\" string, echo out their name, then finally the distance between you and their sets."
   ]
  },
  {
   "cell_type": "code",
   "execution_count": 99,
   "metadata": {
    "collapsed": false
   },
   "outputs": [
    {
     "name": "stdout",
     "output_type": "stream",
     "text": [
      "Dave\n",
      "0.217391304348\n",
      "Brian Zhou\n",
      "0.157894736842\n",
      "Colby\n",
      "0.25\n",
      "Porpoises\n",
      "0.416666666667\n",
      "Tam\n",
      "0.190476190476\n",
      "Scully\n",
      "0.217391304348\n",
      "Mike Levine\n",
      "0.148148148148\n",
      "Yomi\n",
      "0.117647058824\n",
      "Esther\n",
      "0.181818181818\n",
      "Eric\n",
      "0.318181818182\n",
      "Lexi\n",
      "0.318181818182\n",
      "Ilma\n",
      "0.277777777778\n",
      "Mike Steiner\n",
      "0.115384615385\n",
      "dexter/falafel\n",
      "0.166666666667\n",
      "nicaless\n",
      "1.0\n",
      "Denton\n",
      "0.409090909091\n",
      "Han Solo \n",
      "0.0869565217391\n",
      "Justin\n",
      "0.2\n",
      "MATT\n",
      "0.0\n",
      "Cartier\n",
      "0.142857142857\n"
     ]
    }
   ],
   "source": [
    "import math\n",
    "for n in range(0, len(df['Name'])):\n",
    "    name = df['Name'][n]\n",
    "    list1 = df[df[\"Name\"] == \"nicaless\"]['genres'].values[0].split()\n",
    "    if type(df[df[\"Name\"] == name]['genres'].values[0]) == float:\n",
    "        continue\n",
    "    list2 = df[df[\"Name\"] == name]['genres'].values[0].split()\n",
    "    print name\n",
    "    print jaccard(list1, list2)"
   ]
  },
  {
   "cell_type": "markdown",
   "metadata": {},
   "source": [
    "**Optional 6. Try calculating the distance on the time of day feature.**\n",
    "\n",
    "Try to make a new dataframe, for just you vs everyone, using jaccard, and time of day.  Is there any interesting patterns you see?"
   ]
  },
  {
   "cell_type": "code",
   "execution_count": null,
   "metadata": {
    "collapsed": true
   },
   "outputs": [],
   "source": []
  },
  {
   "cell_type": "markdown",
   "metadata": {},
   "source": [
    "**Optional 7. What can you say about the selection of options for genre or time and what they mean?**"
   ]
  },
  {
   "cell_type": "code",
   "execution_count": null,
   "metadata": {
    "collapsed": true
   },
   "outputs": [],
   "source": []
  }
 ],
 "metadata": {
  "kernelspec": {
   "display_name": "Python 2",
   "language": "python",
   "name": "python2"
  },
  "language_info": {
   "codemirror_mode": {
    "name": "ipython",
    "version": 2
   },
   "file_extension": ".py",
   "mimetype": "text/x-python",
   "name": "python",
   "nbconvert_exporter": "python",
   "pygments_lexer": "ipython2",
   "version": "2.7.11"
  }
 },
 "nbformat": 4,
 "nbformat_minor": 0
}
